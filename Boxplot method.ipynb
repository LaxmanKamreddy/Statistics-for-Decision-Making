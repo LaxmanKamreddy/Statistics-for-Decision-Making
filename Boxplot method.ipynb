{
 "cells": [
  {
   "cell_type": "code",
   "execution_count": 1,
   "id": "c53178ce",
   "metadata": {},
   "outputs": [
    {
     "data": {
      "text/html": [
       "<div>\n",
       "<style scoped>\n",
       "    .dataframe tbody tr th:only-of-type {\n",
       "        vertical-align: middle;\n",
       "    }\n",
       "\n",
       "    .dataframe tbody tr th {\n",
       "        vertical-align: top;\n",
       "    }\n",
       "\n",
       "    .dataframe thead th {\n",
       "        text-align: right;\n",
       "    }\n",
       "</style>\n",
       "<table border=\"1\" class=\"dataframe\">\n",
       "  <thead>\n",
       "    <tr style=\"text-align: right;\">\n",
       "      <th></th>\n",
       "      <th>manufacturer</th>\n",
       "      <th>model</th>\n",
       "      <th>displ</th>\n",
       "      <th>year</th>\n",
       "      <th>cyl</th>\n",
       "      <th>trans</th>\n",
       "      <th>cty</th>\n",
       "      <th>hwy</th>\n",
       "      <th>fl</th>\n",
       "      <th>class</th>\n",
       "    </tr>\n",
       "  </thead>\n",
       "  <tbody>\n",
       "    <tr>\n",
       "      <th>0</th>\n",
       "      <td>audi</td>\n",
       "      <td>a4</td>\n",
       "      <td>1.8</td>\n",
       "      <td>1999</td>\n",
       "      <td>4</td>\n",
       "      <td>auto(l5)</td>\n",
       "      <td>18</td>\n",
       "      <td>29</td>\n",
       "      <td>p</td>\n",
       "      <td>compact</td>\n",
       "    </tr>\n",
       "    <tr>\n",
       "      <th>1</th>\n",
       "      <td>audi</td>\n",
       "      <td>a4</td>\n",
       "      <td>1.8</td>\n",
       "      <td>1999</td>\n",
       "      <td>4</td>\n",
       "      <td>manual(m5)</td>\n",
       "      <td>21</td>\n",
       "      <td>29</td>\n",
       "      <td>p</td>\n",
       "      <td>compact</td>\n",
       "    </tr>\n",
       "    <tr>\n",
       "      <th>2</th>\n",
       "      <td>audi</td>\n",
       "      <td>a4</td>\n",
       "      <td>2.0</td>\n",
       "      <td>2008</td>\n",
       "      <td>4</td>\n",
       "      <td>manual(m6)</td>\n",
       "      <td>20</td>\n",
       "      <td>31</td>\n",
       "      <td>p</td>\n",
       "      <td>compact</td>\n",
       "    </tr>\n",
       "    <tr>\n",
       "      <th>3</th>\n",
       "      <td>audi</td>\n",
       "      <td>a4</td>\n",
       "      <td>2.0</td>\n",
       "      <td>2008</td>\n",
       "      <td>4</td>\n",
       "      <td>auto(av)</td>\n",
       "      <td>21</td>\n",
       "      <td>30</td>\n",
       "      <td>p</td>\n",
       "      <td>compact</td>\n",
       "    </tr>\n",
       "    <tr>\n",
       "      <th>4</th>\n",
       "      <td>audi</td>\n",
       "      <td>a4</td>\n",
       "      <td>2.8</td>\n",
       "      <td>1999</td>\n",
       "      <td>6</td>\n",
       "      <td>auto(l5)</td>\n",
       "      <td>16</td>\n",
       "      <td>26</td>\n",
       "      <td>p</td>\n",
       "      <td>compact</td>\n",
       "    </tr>\n",
       "  </tbody>\n",
       "</table>\n",
       "</div>"
      ],
      "text/plain": [
       "  manufacturer model  displ  year  cyl       trans  cty  hwy fl    class\n",
       "0         audi    a4    1.8  1999    4    auto(l5)   18   29  p  compact\n",
       "1         audi    a4    1.8  1999    4  manual(m5)   21   29  p  compact\n",
       "2         audi    a4    2.0  2008    4  manual(m6)   20   31  p  compact\n",
       "3         audi    a4    2.0  2008    4    auto(av)   21   30  p  compact\n",
       "4         audi    a4    2.8  1999    6    auto(l5)   16   26  p  compact"
      ]
     },
     "execution_count": 1,
     "metadata": {},
     "output_type": "execute_result"
    }
   ],
   "source": [
    "# lets import the libraries and data set\n",
    "\n",
    "import pandas as pd\n",
    "from matplotlib import pyplot as plt\n",
    "\n",
    "# Import data set\n",
    "\n",
    "df = pd.read_excel(r'C:\\Users\\Laxman\\OneDrive\\Desktop\\Data Files_1\\Cars.xlsx')\n",
    "\n",
    "df.head()"
   ]
  },
  {
   "cell_type": "markdown",
   "id": "3571e68d",
   "metadata": {},
   "source": [
    "All ALMOST NORMALLY distributed data may still have few outliers. Thus, we not need to find a way to find these outliers by using Boxplot\n",
    "\n",
    "Lets see the Boxplot method to find the outliers: The skewness of cty column is not ZERO thus it may have some outliers\n"
   ]
  },
  {
   "cell_type": "code",
   "execution_count": 2,
   "id": "a2410d48",
   "metadata": {},
   "outputs": [],
   "source": [
    "import matplotlib.pyplot as pli"
   ]
  },
  {
   "cell_type": "code",
   "execution_count": 3,
   "id": "b5d814c4",
   "metadata": {},
   "outputs": [
    {
     "data": {
      "image/png": "[encoded data removed]",
      "text/plain": [
       "<Figure size 432x288 with 1 Axes>"
      ]
     },
     "metadata": {
      "needs_background": "light"
     },
     "output_type": "display_data"
    }
   ],
   "source": [
    "# Lets plot the data of cty column using boxplot command from matplotlib\n",
    "\n",
    "plt.boxplot(df['cty'])\n",
    "\n",
    "plt.show()"
   ]
  },
  {
   "cell_type": "markdown",
   "id": "51908475",
   "metadata": {},
   "source": [
    "The above box plot have following outcome: \n",
    "\n",
    "1) First Quatile Value (Q1) - 25%  of your data values\n",
    "2) 2nd Quatile Value (Q2) - 50% of your data values. It is also know as the median value of data\n",
    "3) 3rd Quatile value (Q3) - 75% of your data values.\n",
    "4) Upper Whisker - Any data value above this will be classified as extreme HIGH value. This is calculated using a formula - Q3 + 1.5* IQR\n",
    "5) Lower Whisker - Any data value below this will be classified as extreme LOW value. This is calculated as Q1 - 1.5*IQR\n",
    "6) IQR - Interquatile range - Which represent the variance in the data. \n",
    "\n",
    "PLEASE refere the excel file for detail notes."
   ]
  },
  {
   "cell_type": "markdown",
   "id": "53df8945",
   "metadata": {},
   "source": [
    "In some data, where I have large set of outliers, boxplot may not give a good result. Thus, we must also know, how to find the outliers in data manually.\n",
    "\n",
    "Use the following steps:"
   ]
  },
  {
   "cell_type": "code",
   "execution_count": 4,
   "id": "d3de53d7",
   "metadata": {},
   "outputs": [
    {
     "name": "stdout",
     "output_type": "stream",
     "text": [
      "Q1 value is:  14.0\n",
      "Q2 value is:  17.0\n",
      "Q3 value is:  19.0\n",
      "IQR value is:  5.0\n",
      "UW value is:  26.5\n",
      "LW value is:  6.5\n"
     ]
    }
   ],
   "source": [
    "# STEP 1: Find the Q1, Q2 and Q3 using a library numpy\n",
    "\n",
    "import numpy as np\n",
    "\n",
    "Q1 = np.quantile(df['cty'], 0.25)\n",
    "Q2 = np.quantile(df['cty'], 0.50)\n",
    "Q3 = np.quantile(df['cty'], 0.75)\n",
    "\n",
    "# STEP 2: Find IQR \n",
    "\n",
    "IQR = Q3 - Q1\n",
    "\n",
    "# STEP 3: Find the upper whisker\n",
    "\n",
    "UW = Q3 + 1.5*IQR\n",
    "\n",
    "# STEP 4: Find the lower whisker\n",
    "\n",
    "LW = Q1 - 1.5*IQR\n",
    "\n",
    "# Lets print output\n",
    "\n",
    "print(\"Q1 value is: \", Q1)\n",
    "print(\"Q2 value is: \", Q2)\n",
    "print(\"Q3 value is: \", Q3)\n",
    "print(\"IQR value is: \", IQR)\n",
    "print(\"UW value is: \", UW)\n",
    "print(\"LW value is: \", LW)"
   ]
  },
  {
   "cell_type": "code",
   "execution_count": 5,
   "id": "50c79c25",
   "metadata": {},
   "outputs": [
    {
     "data": {
      "text/html": [
       "<div>\n",
       "<style scoped>\n",
       "    .dataframe tbody tr th:only-of-type {\n",
       "        vertical-align: middle;\n",
       "    }\n",
       "\n",
       "    .dataframe tbody tr th {\n",
       "        vertical-align: top;\n",
       "    }\n",
       "\n",
       "    .dataframe thead th {\n",
       "        text-align: right;\n",
       "    }\n",
       "</style>\n",
       "<table border=\"1\" class=\"dataframe\">\n",
       "  <thead>\n",
       "    <tr style=\"text-align: right;\">\n",
       "      <th></th>\n",
       "      <th>manufacturer</th>\n",
       "      <th>model</th>\n",
       "      <th>displ</th>\n",
       "      <th>year</th>\n",
       "      <th>cyl</th>\n",
       "      <th>trans</th>\n",
       "      <th>cty</th>\n",
       "      <th>hwy</th>\n",
       "      <th>fl</th>\n",
       "      <th>class</th>\n",
       "      <th>Outlier</th>\n",
       "    </tr>\n",
       "  </thead>\n",
       "  <tbody>\n",
       "    <tr>\n",
       "      <th>0</th>\n",
       "      <td>audi</td>\n",
       "      <td>a4</td>\n",
       "      <td>1.8</td>\n",
       "      <td>1999</td>\n",
       "      <td>4</td>\n",
       "      <td>auto(l5)</td>\n",
       "      <td>18</td>\n",
       "      <td>29</td>\n",
       "      <td>p</td>\n",
       "      <td>compact</td>\n",
       "      <td>No</td>\n",
       "    </tr>\n",
       "    <tr>\n",
       "      <th>1</th>\n",
       "      <td>audi</td>\n",
       "      <td>a4</td>\n",
       "      <td>1.8</td>\n",
       "      <td>1999</td>\n",
       "      <td>4</td>\n",
       "      <td>manual(m5)</td>\n",
       "      <td>21</td>\n",
       "      <td>29</td>\n",
       "      <td>p</td>\n",
       "      <td>compact</td>\n",
       "      <td>No</td>\n",
       "    </tr>\n",
       "    <tr>\n",
       "      <th>2</th>\n",
       "      <td>audi</td>\n",
       "      <td>a4</td>\n",
       "      <td>2.0</td>\n",
       "      <td>2008</td>\n",
       "      <td>4</td>\n",
       "      <td>manual(m6)</td>\n",
       "      <td>20</td>\n",
       "      <td>31</td>\n",
       "      <td>p</td>\n",
       "      <td>compact</td>\n",
       "      <td>No</td>\n",
       "    </tr>\n",
       "    <tr>\n",
       "      <th>3</th>\n",
       "      <td>audi</td>\n",
       "      <td>a4</td>\n",
       "      <td>2.0</td>\n",
       "      <td>2008</td>\n",
       "      <td>4</td>\n",
       "      <td>auto(av)</td>\n",
       "      <td>21</td>\n",
       "      <td>30</td>\n",
       "      <td>p</td>\n",
       "      <td>compact</td>\n",
       "      <td>No</td>\n",
       "    </tr>\n",
       "    <tr>\n",
       "      <th>4</th>\n",
       "      <td>audi</td>\n",
       "      <td>a4</td>\n",
       "      <td>2.8</td>\n",
       "      <td>1999</td>\n",
       "      <td>6</td>\n",
       "      <td>auto(l5)</td>\n",
       "      <td>16</td>\n",
       "      <td>26</td>\n",
       "      <td>p</td>\n",
       "      <td>compact</td>\n",
       "      <td>No</td>\n",
       "    </tr>\n",
       "  </tbody>\n",
       "</table>\n",
       "</div>"
      ],
      "text/plain": [
       "  manufacturer model  displ  year  cyl       trans  cty  hwy fl    class  \\\n",
       "0         audi    a4    1.8  1999    4    auto(l5)   18   29  p  compact   \n",
       "1         audi    a4    1.8  1999    4  manual(m5)   21   29  p  compact   \n",
       "2         audi    a4    2.0  2008    4  manual(m6)   20   31  p  compact   \n",
       "3         audi    a4    2.0  2008    4    auto(av)   21   30  p  compact   \n",
       "4         audi    a4    2.8  1999    6    auto(l5)   16   26  p  compact   \n",
       "\n",
       "  Outlier  \n",
       "0      No  \n",
       "1      No  \n",
       "2      No  \n",
       "3      No  \n",
       "4      No  "
      ]
     },
     "execution_count": 5,
     "metadata": {},
     "output_type": "execute_result"
    }
   ],
   "source": [
    "# Lets create a new column in the data set to label values as outlier or not\n",
    "\n",
    "df['Outlier'] = np.where((df['cty'] > 26.5) | (df['cty'] < 6.5), \"Yes\", \"No\")\n",
    "\n",
    "df.head()"
   ]
  },
  {
   "cell_type": "code",
   "execution_count": 6,
   "id": "09b29f27",
   "metadata": {},
   "outputs": [
    {
     "data": {
      "text/html": [
       "<div>\n",
       "<style scoped>\n",
       "    .dataframe tbody tr th:only-of-type {\n",
       "        vertical-align: middle;\n",
       "    }\n",
       "\n",
       "    .dataframe tbody tr th {\n",
       "        vertical-align: top;\n",
       "    }\n",
       "\n",
       "    .dataframe thead th {\n",
       "        text-align: right;\n",
       "    }\n",
       "</style>\n",
       "<table border=\"1\" class=\"dataframe\">\n",
       "  <thead>\n",
       "    <tr style=\"text-align: right;\">\n",
       "      <th></th>\n",
       "      <th>manufacturer</th>\n",
       "      <th>model</th>\n",
       "      <th>displ</th>\n",
       "      <th>year</th>\n",
       "      <th>cyl</th>\n",
       "      <th>trans</th>\n",
       "      <th>cty</th>\n",
       "      <th>hwy</th>\n",
       "      <th>fl</th>\n",
       "      <th>class</th>\n",
       "      <th>Outlier</th>\n",
       "    </tr>\n",
       "  </thead>\n",
       "  <tbody>\n",
       "    <tr>\n",
       "      <th>99</th>\n",
       "      <td>honda</td>\n",
       "      <td>civic</td>\n",
       "      <td>1.6</td>\n",
       "      <td>1999</td>\n",
       "      <td>4</td>\n",
       "      <td>manual(m5)</td>\n",
       "      <td>28</td>\n",
       "      <td>33</td>\n",
       "      <td>r</td>\n",
       "      <td>subcompact</td>\n",
       "      <td>Yes</td>\n",
       "    </tr>\n",
       "    <tr>\n",
       "      <th>196</th>\n",
       "      <td>toyota</td>\n",
       "      <td>corolla</td>\n",
       "      <td>1.8</td>\n",
       "      <td>2008</td>\n",
       "      <td>4</td>\n",
       "      <td>manual(m5)</td>\n",
       "      <td>28</td>\n",
       "      <td>37</td>\n",
       "      <td>r</td>\n",
       "      <td>compact</td>\n",
       "      <td>Yes</td>\n",
       "    </tr>\n",
       "    <tr>\n",
       "      <th>212</th>\n",
       "      <td>volkswagen</td>\n",
       "      <td>jetta</td>\n",
       "      <td>1.9</td>\n",
       "      <td>1999</td>\n",
       "      <td>4</td>\n",
       "      <td>manual(m5)</td>\n",
       "      <td>33</td>\n",
       "      <td>44</td>\n",
       "      <td>d</td>\n",
       "      <td>compact</td>\n",
       "      <td>Yes</td>\n",
       "    </tr>\n",
       "    <tr>\n",
       "      <th>221</th>\n",
       "      <td>volkswagen</td>\n",
       "      <td>new beetle</td>\n",
       "      <td>1.9</td>\n",
       "      <td>1999</td>\n",
       "      <td>4</td>\n",
       "      <td>manual(m5)</td>\n",
       "      <td>35</td>\n",
       "      <td>44</td>\n",
       "      <td>d</td>\n",
       "      <td>subcompact</td>\n",
       "      <td>Yes</td>\n",
       "    </tr>\n",
       "    <tr>\n",
       "      <th>222</th>\n",
       "      <td>volkswagen</td>\n",
       "      <td>new beetle</td>\n",
       "      <td>1.9</td>\n",
       "      <td>1999</td>\n",
       "      <td>4</td>\n",
       "      <td>auto(l4)</td>\n",
       "      <td>29</td>\n",
       "      <td>41</td>\n",
       "      <td>d</td>\n",
       "      <td>subcompact</td>\n",
       "      <td>Yes</td>\n",
       "    </tr>\n",
       "  </tbody>\n",
       "</table>\n",
       "</div>"
      ],
      "text/plain": [
       "    manufacturer       model  displ  year  cyl       trans  cty  hwy fl  \\\n",
       "99         honda       civic    1.6  1999    4  manual(m5)   28   33  r   \n",
       "196       toyota     corolla    1.8  2008    4  manual(m5)   28   37  r   \n",
       "212   volkswagen       jetta    1.9  1999    4  manual(m5)   33   44  d   \n",
       "221   volkswagen  new beetle    1.9  1999    4  manual(m5)   35   44  d   \n",
       "222   volkswagen  new beetle    1.9  1999    4    auto(l4)   29   41  d   \n",
       "\n",
       "          class Outlier  \n",
       "99   subcompact     Yes  \n",
       "196     compact     Yes  \n",
       "212     compact     Yes  \n",
       "221  subcompact     Yes  \n",
       "222  subcompact     Yes  "
      ]
     },
     "execution_count": 6,
     "metadata": {},
     "output_type": "execute_result"
    }
   ],
   "source": [
    "# PS1: Filter the data frame df where outlier column contain value \"Yes\"\n",
    "\n",
    "# Create Fliter contion\n",
    "\n",
    "FC = df['Outlier'] == \"Yes\"\n",
    "\n",
    "# The output of FC will be boolean value in case the row fullfill the condition or not\n",
    "FC\n",
    "\n",
    "# We now use [] - When you pass the filter condition in [] by default the outcome will be the rows which fullfill the \n",
    "# condition\n",
    "\n",
    "df[FC]"
   ]
  },
  {
   "cell_type": "code",
   "execution_count": 7,
   "id": "d5f39177",
   "metadata": {},
   "outputs": [
    {
     "data": {
      "text/plain": [
       "(185, 11)"
      ]
     },
     "execution_count": 7,
     "metadata": {},
     "output_type": "execute_result"
    }
   ],
   "source": [
    "# PS2: Find the number of cars with displacement of greater than 2.2\n",
    "\n",
    "FC2 = df['displ'] > 2.2\n",
    "\n",
    "df[FC2].shape"
   ]
  },
  {
   "cell_type": "code",
   "execution_count": 8,
   "id": "3491e380",
   "metadata": {},
   "outputs": [
    {
     "data": {
      "text/plain": [
       "3.8827027027026992"
      ]
     },
     "execution_count": 8,
     "metadata": {},
     "output_type": "execute_result"
    }
   ],
   "source": [
    "#PS: Find the average displacement for cars where displ is greater than 2.2\n",
    "\n",
    "df[df['displ']>2.2]['displ'].mean()"
   ]
  },
  {
   "cell_type": "code",
   "execution_count": 9,
   "id": "0989a562",
   "metadata": {},
   "outputs": [
    {
     "data": {
      "text/plain": [
       "(19, 11)"
      ]
     },
     "execution_count": 9,
     "metadata": {},
     "output_type": "execute_result"
    }
   ],
   "source": [
    "# PS3 in a single line of code\n",
    "\n",
    "df[(df['displ']>2.2) & (df['cty']>19)].shape"
   ]
  },
  {
   "cell_type": "code",
   "execution_count": null,
   "id": "2552aa4a",
   "metadata": {},
   "outputs": [],
   "source": []
  }
 ],
 "metadata": {
  "kernelspec": {
   "display_name": "Python 3 (ipykernel)",
   "language": "python",
   "name": "python3"
  },
  "language_info": {
   "codemirror_mode": {
    "name": "ipython",
    "version": 3
   },
   "file_extension": ".py",
   "mimetype": "text/x-python",
   "name": "python",
   "nbconvert_exporter": "python",
   "pygments_lexer": "ipython3",
   "version": "3.9.7"
  }
 },
 "nbformat": 4,
 "nbformat_minor": 5
}
