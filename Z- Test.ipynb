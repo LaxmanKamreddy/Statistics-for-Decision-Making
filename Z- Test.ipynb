{
 "cells": [
  {
   "cell_type": "code",
   "execution_count": 2,
   "id": "d6b941de",
   "metadata": {},
   "outputs": [],
   "source": [
    "\n",
    "import pandas as pd"
   ]
  },
  {
   "cell_type": "code",
   "execution_count": 3,
   "id": "63a759d3",
   "metadata": {},
   "outputs": [
    {
     "data": {
      "text/html": [
       "<div>\n",
       "<style scoped>\n",
       "    .dataframe tbody tr th:only-of-type {\n",
       "        vertical-align: middle;\n",
       "    }\n",
       "\n",
       "    .dataframe tbody tr th {\n",
       "        vertical-align: top;\n",
       "    }\n",
       "\n",
       "    .dataframe thead th {\n",
       "        text-align: right;\n",
       "    }\n",
       "</style>\n",
       "<table border=\"1\" class=\"dataframe\">\n",
       "  <thead>\n",
       "    <tr style=\"text-align: right;\">\n",
       "      <th></th>\n",
       "      <th>Student</th>\n",
       "      <th>SAT Score</th>\n",
       "    </tr>\n",
       "  </thead>\n",
       "  <tbody>\n",
       "    <tr>\n",
       "      <th>0</th>\n",
       "      <td>1</td>\n",
       "      <td>434</td>\n",
       "    </tr>\n",
       "    <tr>\n",
       "      <th>1</th>\n",
       "      <td>2</td>\n",
       "      <td>694</td>\n",
       "    </tr>\n",
       "    <tr>\n",
       "      <th>2</th>\n",
       "      <td>3</td>\n",
       "      <td>457</td>\n",
       "    </tr>\n",
       "    <tr>\n",
       "      <th>3</th>\n",
       "      <td>4</td>\n",
       "      <td>534</td>\n",
       "    </tr>\n",
       "    <tr>\n",
       "      <th>4</th>\n",
       "      <td>5</td>\n",
       "      <td>720</td>\n",
       "    </tr>\n",
       "  </tbody>\n",
       "</table>\n",
       "</div>"
      ],
      "text/plain": [
       "   Student  SAT Score\n",
       "0        1        434\n",
       "1        2        694\n",
       "2        3        457\n",
       "3        4        534\n",
       "4        5        720"
      ]
     },
     "execution_count": 3,
     "metadata": {},
     "output_type": "execute_result"
    }
   ],
   "source": [
    "# Lets import the data\n",
    "\n",
    "SAT = pd.read_excel(r\"C:\\Users\\Laxman\\OneDrive\\Desktop\\Data Files_1\\Z - test - One sample - SAT Score.xlsx\")\n",
    "\n",
    "SAT.head()"
   ]
  },
  {
   "cell_type": "code",
   "execution_count": 4,
   "id": "82b28743",
   "metadata": {},
   "outputs": [
    {
     "data": {
      "text/plain": [
       "0.14603777698529208"
      ]
     },
     "execution_count": 4,
     "metadata": {},
     "output_type": "execute_result"
    }
   ],
   "source": [
    "# Lets check if the data is normally distributed\n",
    "\n",
    "SAT['SAT Score'].skew()"
   ]
  },
  {
   "cell_type": "markdown",
   "id": "8116b89a",
   "metadata": {},
   "source": [
    "Data have more than 30 data points, The SD of population is know and data is also normally distributed, Thus we can use Z-Test"
   ]
  },
  {
   "cell_type": "markdown",
   "id": "79d1df31",
   "metadata": {},
   "source": [
    "For Standard Normal Test (Z - test) \n",
    "a) Large sample test (n > 30)\n",
    "b) Population SD is known\n",
    "c) Normally distributed\n",
    "d) Max only two sample can be compared\n",
    "e) compare two groups/categories of numeric variables with large sample size\n"
   ]
  },
  {
   "cell_type": "code",
   "execution_count": 5,
   "id": "c7bafc7c",
   "metadata": {},
   "outputs": [
    {
     "data": {
      "text/plain": [
       "(33.10729583418216, 2.33368439508341e-240)"
      ]
     },
     "execution_count": 5,
     "metadata": {},
     "output_type": "execute_result"
    }
   ],
   "source": [
    "# Lets import the z test function\n",
    "\n",
    "from statsmodels.stats import weightstats\n",
    "\n",
    "# Syntax - weightstats.ztest(X1 = First Sample, X2 = Second Sample)\n",
    "\n",
    "test = weightstats.ztest(SAT['SAT Score'], x2 = None)\n",
    "\n",
    "test"
   ]
  },
  {
   "cell_type": "markdown",
   "id": "fe86f1a3",
   "metadata": {},
   "source": [
    "The p-value for the test 2.33*e^-240 ~ 0.00\n",
    "\n",
    "Thus p-value for test < 0.05, thus, I will reject my null statement and I will go with my alternative statement i.e There is significant impact of SAT classes on average marks"
   ]
  },
  {
   "cell_type": "code",
   "execution_count": null,
   "id": "d221249b",
   "metadata": {},
   "outputs": [],
   "source": []
  }
 ],
 "metadata": {
  "kernelspec": {
   "display_name": "Python 3 (ipykernel)",
   "language": "python",
   "name": "python3"
  },
  "language_info": {
   "codemirror_mode": {
    "name": "ipython",
    "version": 3
   },
   "file_extension": ".py",
   "mimetype": "text/x-python",
   "name": "python",
   "nbconvert_exporter": "python",
   "pygments_lexer": "ipython3",
   "version": "3.9.7"
  }
 },
 "nbformat": 4,
 "nbformat_minor": 5
}
